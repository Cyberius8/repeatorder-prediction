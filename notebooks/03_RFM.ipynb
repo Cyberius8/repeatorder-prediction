{
 "cells": [
  {
   "cell_type": "code",
   "execution_count": 4,
   "id": "c18060e9",
   "metadata": {},
   "outputs": [],
   "source": [
    "# 1. IMPORT\n",
    "import pandas as pd\n",
    "from datetime import timedelta\n",
    "from sklearn.model_selection import train_test_split\n",
    "\n",
    "# 2. LOAD DATA\n",
    "orders = pd.read_csv('../data/olist_orders_dataset.csv')\n",
    "customers = pd.read_csv('../data/olist_customers_dataset.csv')\n",
    "payments = pd.read_csv('../data/olist_order_payments_dataset.csv')\n",
    "\n",
    "# Gabungkan order + customer\n",
    "orders_customers = orders.merge(customers, on='customer_id', how='left')\n",
    "orders_customers['order_purchase_timestamp'] = pd.to_datetime(orders_customers['order_purchase_timestamp'])\n",
    "\n",
    "# Gabungkan payment\n",
    "full_data = orders_customers.merge(payments[['order_id', 'payment_value']], on='order_id', how='left')\n",
    "\n",
    "# 3. SPLIT BERDASARKAN CUSTOMER\n",
    "unique_ids = full_data['customer_unique_id'].unique()\n",
    "train_ids, test_ids = train_test_split(unique_ids, test_size=0.2, random_state=42)\n",
    "\n",
    "train_data = full_data[full_data['customer_unique_id'].isin(train_ids)].copy()\n",
    "test_data = full_data[full_data['customer_unique_id'].isin(test_ids)].copy()\n",
    "\n",
    "# 4. GUNAKAN CUTOFF DARI TRAINING SET\n",
    "cutoff = train_data['order_purchase_timestamp'].max() + timedelta(days=1)\n"
   ]
  },
  {
   "cell_type": "code",
   "execution_count": 5,
   "id": "9d784be0",
   "metadata": {},
   "outputs": [],
   "source": [
    "# 5. HITUNG RFM (HANYA DARI TRAINING)\n",
    "rfm_train = train_data.groupby('customer_unique_id').agg({\n",
    "    'order_purchase_timestamp': lambda x: (cutoff - x.max()).days,\n",
    "    'order_id': 'nunique',\n",
    "    'payment_value': 'sum'\n",
    "}).reset_index()\n",
    "\n",
    "rfm_train.columns = ['customer_unique_id', 'recency', 'frequency', 'monetary']\n",
    "\n",
    "# 6. EXPORT\n",
    "rfm_train.to_csv('../data/rfm_features_train.csv', index=False)"
   ]
  }
 ],
 "metadata": {
  "kernelspec": {
   "display_name": "Python 3",
   "language": "python",
   "name": "python3"
  },
  "language_info": {
   "codemirror_mode": {
    "name": "ipython",
    "version": 3
   },
   "file_extension": ".py",
   "mimetype": "text/x-python",
   "name": "python",
   "nbconvert_exporter": "python",
   "pygments_lexer": "ipython3",
   "version": "3.10.2"
  }
 },
 "nbformat": 4,
 "nbformat_minor": 5
}
