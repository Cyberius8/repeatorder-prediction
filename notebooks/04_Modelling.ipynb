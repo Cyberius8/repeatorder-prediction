{
 "cells": [
  {
   "cell_type": "code",
   "execution_count": 36,
   "id": "fedae680",
   "metadata": {},
   "outputs": [],
   "source": [
    "import pandas as pd\n",
    "from sklearn.model_selection import train_test_split\n",
    "from sklearn.preprocessing import StandardScaler\n",
    "from sklearn.metrics import classification_report, confusion_matrix, roc_auc_score\n",
    "from sklearn.ensemble import RandomForestClassifier\n",
    "from sklearn.linear_model import LogisticRegression\n",
    "from xgboost import XGBClassifier\n",
    "import matplotlib.pyplot as plt\n",
    "import seaborn as sns\n",
    "\n",
    "# Load dataset hasil feature + label\n",
    "df = pd.read_csv('../data/rfm_features_train.csv')\n",
    "labels = pd.read_csv('../data/repeat_order_labels.csv')\n",
    "\n",
    "# Merge\n",
    "data = df.merge(labels[['customer_unique_id', 'repeat_order']], on='customer_unique_id')\n",
    "X = data[['recency', 'frequency', 'monetary']]\n",
    "y = data['repeat_order']"
   ]
  },
  {
   "cell_type": "code",
   "execution_count": 37,
   "id": "774b04c9",
   "metadata": {},
   "outputs": [],
   "source": [
    "X_train, X_test, y_train, y_test = train_test_split(X, y, stratify=y, test_size=0.2, random_state=42)\n",
    "\n",
    "# Normalisasi\n",
    "scaler = StandardScaler()\n",
    "X_train_scaled = scaler.fit_transform(X_train)\n",
    "X_test_scaled = scaler.transform(X_test)\n"
   ]
  },
  {
   "cell_type": "code",
   "execution_count": 38,
   "id": "574105f5",
   "metadata": {},
   "outputs": [
    {
     "name": "stderr",
     "output_type": "stream",
     "text": [
      "C:\\Users\\Gede Darmawan\\AppData\\Roaming\\Python\\Python310\\site-packages\\sklearn\\utils\\validation.py:2732: UserWarning: X has feature names, but LogisticRegression was fitted without feature names\n",
      "  warnings.warn(\n",
      "C:\\Users\\Gede Darmawan\\AppData\\Roaming\\Python\\Python310\\site-packages\\sklearn\\utils\\validation.py:2732: UserWarning: X has feature names, but RandomForestClassifier was fitted without feature names\n",
      "  warnings.warn(\n",
      "C:\\Users\\Gede Darmawan\\AppData\\Roaming\\Python\\Python310\\site-packages\\xgboost\\training.py:183: UserWarning: [21:56:20] WARNING: C:\\actions-runner\\_work\\xgboost\\xgboost\\src\\learner.cc:738: \n",
      "Parameters: { \"use_label_encoder\" } are not used.\n",
      "\n",
      "  bst.update(dtrain, iteration=i, fobj=obj)\n"
     ]
    }
   ],
   "source": [
    "lr = LogisticRegression(class_weight='balanced', random_state=42)\n",
    "lr.fit(X_train_scaled, y_train)\n",
    "y_pred_lr = lr.predict(X_test)\n",
    "\n",
    "rf = RandomForestClassifier(class_weight='balanced', n_estimators=100, random_state=42)\n",
    "rf.fit(X_train_scaled, y_train)\n",
    "y_pred_rf = rf.predict(X_test)\n",
    "\n",
    "xgb = XGBClassifier(scale_pos_weight=1, use_label_encoder=False, eval_metric='logloss', random_state=42)\n",
    "xgb.fit(X_train_scaled, y_train)\n",
    "y_pred_xgb = xgb.predict(X_test)"
   ]
  },
  {
   "cell_type": "code",
   "execution_count": 39,
   "id": "472c160e",
   "metadata": {},
   "outputs": [
    {
     "name": "stdout",
     "output_type": "stream",
     "text": [
      "\n",
      "=== Logistic Regression ===\n",
      "[[8392 6507]\n",
      " [  28  449]]\n",
      "              precision    recall  f1-score   support\n",
      "\n",
      "           0       1.00      0.56      0.72     14899\n",
      "           1       0.06      0.94      0.12       477\n",
      "\n",
      "    accuracy                           0.57     15376\n",
      "   macro avg       0.53      0.75      0.42     15376\n",
      "weighted avg       0.97      0.57      0.70     15376\n",
      "\n",
      "ROC AUC Score: 0.7523\n",
      "\n",
      "=== Random Forest ===\n",
      "[[14899     0]\n",
      " [  437    40]]\n",
      "              precision    recall  f1-score   support\n",
      "\n",
      "           0       0.97      1.00      0.99     14899\n",
      "           1       1.00      0.08      0.15       477\n",
      "\n",
      "    accuracy                           0.97     15376\n",
      "   macro avg       0.99      0.54      0.57     15376\n",
      "weighted avg       0.97      0.97      0.96     15376\n",
      "\n",
      "ROC AUC Score: 0.5419\n",
      "\n",
      "=== XGBoost ===\n",
      "[[14899     0]\n",
      " [  475     2]]\n",
      "              precision    recall  f1-score   support\n",
      "\n",
      "           0       0.97      1.00      0.98     14899\n",
      "           1       1.00      0.00      0.01       477\n",
      "\n",
      "    accuracy                           0.97     15376\n",
      "   macro avg       0.98      0.50      0.50     15376\n",
      "weighted avg       0.97      0.97      0.95     15376\n",
      "\n",
      "ROC AUC Score: 0.5021\n"
     ]
    }
   ],
   "source": [
    "def evaluate_model(y_true, y_pred, model_name):\n",
    "    print(f\"\\n=== {model_name} ===\")\n",
    "    print(confusion_matrix(y_true, y_pred))\n",
    "    print(classification_report(y_true, y_pred))\n",
    "    print(f\"ROC AUC Score: {roc_auc_score(y_true, y_pred):.4f}\")\n",
    "\n",
    "evaluate_model(y_test, y_pred_lr, \"Logistic Regression\")\n",
    "evaluate_model(y_test, y_pred_rf, \"Random Forest\")\n",
    "evaluate_model(y_test, y_pred_xgb, \"XGBoost\")\n"
   ]
  },
  {
   "cell_type": "code",
   "execution_count": 40,
   "id": "d4074bcb",
   "metadata": {},
   "outputs": [
    {
     "data": {
      "image/png": "[encoded data removed]",
      "text/plain": [
       "<Figure size 1800x500 with 3 Axes>"
      ]
     },
     "metadata": {},
     "output_type": "display_data"
    }
   ],
   "source": [
    "from sklearn.metrics import ConfusionMatrixDisplay\n",
    "\n",
    "fig, axes = plt.subplots(1, 3, figsize=(18, 5))\n",
    "\n",
    "for i, (y_pred, title) in enumerate(zip(\n",
    "    [y_pred_lr, y_pred_rf, y_pred_xgb],\n",
    "    ['Logistic Regression', 'Random Forest', 'XGBoost']\n",
    ")):\n",
    "    disp = ConfusionMatrixDisplay.from_predictions(y_test, y_pred, ax=axes[i], colorbar=False)\n",
    "    axes[i].set_title(title)\n",
    "\n",
    "plt.tight_layout()\n",
    "plt.show()\n"
   ]
  }
 ],
 "metadata": {
  "kernelspec": {
   "display_name": "Python 3",
   "language": "python",
   "name": "python3"
  },
  "language_info": {
   "codemirror_mode": {
    "name": "ipython",
    "version": 3
   },
   "file_extension": ".py",
   "mimetype": "text/x-python",
   "name": "python",
   "nbconvert_exporter": "python",
   "pygments_lexer": "ipython3",
   "version": "3.10.2"
  }
 },
 "nbformat": 4,
 "nbformat_minor": 5
}
